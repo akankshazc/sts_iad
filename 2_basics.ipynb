{
 "cells": [
  {
   "cell_type": "markdown",
   "id": "2c741976",
   "metadata": {},
   "source": [
    "# basics"
   ]
  },
  {
   "cell_type": "code",
   "execution_count": 1,
   "id": "a8c744e9",
   "metadata": {},
   "outputs": [],
   "source": [
    "import pandas as pd"
   ]
  },
  {
   "cell_type": "code",
   "execution_count": 2,
   "id": "5a2e3cf0",
   "metadata": {},
   "outputs": [
    {
     "data": {
      "text/html": [
       "<div>\n",
       "<style scoped>\n",
       "    .dataframe tbody tr th:only-of-type {\n",
       "        vertical-align: middle;\n",
       "    }\n",
       "\n",
       "    .dataframe tbody tr th {\n",
       "        vertical-align: top;\n",
       "    }\n",
       "\n",
       "    .dataframe thead th {\n",
       "        text-align: right;\n",
       "    }\n",
       "</style>\n",
       "<table border=\"1\" class=\"dataframe\">\n",
       "  <thead>\n",
       "    <tr style=\"text-align: right;\">\n",
       "      <th></th>\n",
       "      <th>gender</th>\n",
       "      <th>age</th>\n",
       "      <th>batch</th>\n",
       "      <th>avg_internet_usage</th>\n",
       "      <th>usage_type</th>\n",
       "    </tr>\n",
       "  </thead>\n",
       "  <tbody>\n",
       "    <tr>\n",
       "      <th>0</th>\n",
       "      <td>Female</td>\n",
       "      <td>21 to 25</td>\n",
       "      <td>2017/ Final year</td>\n",
       "      <td>4 to 6 hours per day</td>\n",
       "      <td>Online learning</td>\n",
       "    </tr>\n",
       "    <tr>\n",
       "      <th>1</th>\n",
       "      <td>Male</td>\n",
       "      <td>21 to 25</td>\n",
       "      <td>2017/ Final year</td>\n",
       "      <td>4 to 6 hours per day</td>\n",
       "      <td>Information gathering for academic purposes</td>\n",
       "    </tr>\n",
       "    <tr>\n",
       "      <th>2</th>\n",
       "      <td>Male</td>\n",
       "      <td>21 to 25</td>\n",
       "      <td>2017/ Final year</td>\n",
       "      <td>6 to 8 hours per day</td>\n",
       "      <td>Online learning</td>\n",
       "    </tr>\n",
       "    <tr>\n",
       "      <th>3</th>\n",
       "      <td>Female</td>\n",
       "      <td>21 to 25</td>\n",
       "      <td>2017/ Final year</td>\n",
       "      <td>4 to 6 hours per day</td>\n",
       "      <td>Online learning</td>\n",
       "    </tr>\n",
       "    <tr>\n",
       "      <th>4</th>\n",
       "      <td>Female</td>\n",
       "      <td>21 to 25</td>\n",
       "      <td>2017/ Final year</td>\n",
       "      <td>4 to 6 hours per day</td>\n",
       "      <td>Lecture videos</td>\n",
       "    </tr>\n",
       "  </tbody>\n",
       "</table>\n",
       "</div>"
      ],
      "text/plain": [
       "   gender       age             batch    avg_internet_usage  \\\n",
       "0  Female  21 to 25  2017/ Final year  4 to 6 hours per day   \n",
       "1    Male  21 to 25  2017/ Final year  4 to 6 hours per day   \n",
       "2    Male  21 to 25  2017/ Final year  6 to 8 hours per day   \n",
       "3  Female  21 to 25  2017/ Final year  4 to 6 hours per day   \n",
       "4  Female  21 to 25  2017/ Final year  4 to 6 hours per day   \n",
       "\n",
       "                                    usage_type  \n",
       "0                              Online learning  \n",
       "1  Information gathering for academic purposes  \n",
       "2                              Online learning  \n",
       "3                              Online learning  \n",
       "4                               Lecture videos  "
      ]
     },
     "execution_count": 2,
     "metadata": {},
     "output_type": "execute_result"
    }
   ],
   "source": [
    "df = pd.read_csv('data/basics.csv')\n",
    "df.head()"
   ]
  },
  {
   "cell_type": "code",
   "execution_count": 3,
   "id": "f5a4a0df",
   "metadata": {},
   "outputs": [
    {
     "data": {
      "text/plain": [
       "(194, 5)"
      ]
     },
     "execution_count": 3,
     "metadata": {},
     "output_type": "execute_result"
    }
   ],
   "source": [
    "df.shape"
   ]
  },
  {
   "cell_type": "code",
   "execution_count": 4,
   "id": "bf774d8f",
   "metadata": {},
   "outputs": [
    {
     "name": "stdout",
     "output_type": "stream",
     "text": [
      "<class 'pandas.core.frame.DataFrame'>\n",
      "RangeIndex: 194 entries, 0 to 193\n",
      "Data columns (total 5 columns):\n",
      " #   Column              Non-Null Count  Dtype \n",
      "---  ------              --------------  ----- \n",
      " 0   gender              194 non-null    object\n",
      " 1   age                 194 non-null    object\n",
      " 2   batch               194 non-null    object\n",
      " 3   avg_internet_usage  194 non-null    object\n",
      " 4   usage_type          194 non-null    object\n",
      "dtypes: object(5)\n",
      "memory usage: 7.7+ KB\n"
     ]
    }
   ],
   "source": [
    "df.info()"
   ]
  },
  {
   "cell_type": "markdown",
   "id": "e1d98d1d",
   "metadata": {},
   "source": [
    "no null values."
   ]
  },
  {
   "cell_type": "code",
   "execution_count": 6,
   "id": "77527bd4",
   "metadata": {},
   "outputs": [
    {
     "data": {
      "text/plain": [
       "gender\n",
       "Male                 117\n",
       "Female                76\n",
       "Prefer not to say      1\n",
       "Name: count, dtype: int64"
      ]
     },
     "execution_count": 6,
     "metadata": {},
     "output_type": "execute_result"
    }
   ],
   "source": [
    "df['gender'].value_counts()"
   ]
  },
  {
   "cell_type": "markdown",
   "id": "9d2477ac",
   "metadata": {},
   "source": [
    "there is a difference in absolute gender numbers. percentages more meaningful for comparison."
   ]
  },
  {
   "cell_type": "code",
   "execution_count": 7,
   "id": "a456af9a",
   "metadata": {},
   "outputs": [
    {
     "data": {
      "text/plain": [
       "age\n",
       "18 to 21    129\n",
       "21 to 25     65\n",
       "Name: count, dtype: int64"
      ]
     },
     "execution_count": 7,
     "metadata": {},
     "output_type": "execute_result"
    }
   ],
   "source": [
    "df['age'].value_counts()"
   ]
  },
  {
   "cell_type": "code",
   "execution_count": 8,
   "id": "600b9ec2",
   "metadata": {},
   "outputs": [
    {
     "data": {
      "text/plain": [
       "batch\n",
       "2020/ First year    139\n",
       "2017/ Final year     55\n",
       "Name: count, dtype: int64"
      ]
     },
     "execution_count": 8,
     "metadata": {},
     "output_type": "execute_result"
    }
   ],
   "source": [
    "df['batch'].value_counts()"
   ]
  },
  {
   "cell_type": "markdown",
   "id": "73f70b0a",
   "metadata": {},
   "source": [
    "there is a marked difference between the number of participants from each group. so percentages are more meaningful than absolute numbers. "
   ]
  },
  {
   "cell_type": "code",
   "execution_count": 9,
   "id": "7f0430d1",
   "metadata": {},
   "outputs": [
    {
     "data": {
      "text/plain": [
       "avg_internet_usage\n",
       "4 to 6 hours per day         61\n",
       "2 to 4 hours per day         58\n",
       "6 to 8 hours per day         30\n",
       "0 to 2 hours per day         28\n",
       "more than 8 hours per day    17\n",
       "Name: count, dtype: int64"
      ]
     },
     "execution_count": 9,
     "metadata": {},
     "output_type": "execute_result"
    }
   ],
   "source": [
    "df['avg_internet_usage'].value_counts()"
   ]
  },
  {
   "cell_type": "code",
   "execution_count": 15,
   "id": "0fa94c0b",
   "metadata": {},
   "outputs": [
    {
     "data": {
      "text/html": [
       "<div>\n",
       "<style scoped>\n",
       "    .dataframe tbody tr th:only-of-type {\n",
       "        vertical-align: middle;\n",
       "    }\n",
       "\n",
       "    .dataframe tbody tr th {\n",
       "        vertical-align: top;\n",
       "    }\n",
       "\n",
       "    .dataframe thead th {\n",
       "        text-align: right;\n",
       "    }\n",
       "</style>\n",
       "<table border=\"1\" class=\"dataframe\">\n",
       "  <thead>\n",
       "    <tr style=\"text-align: right;\">\n",
       "      <th>batch</th>\n",
       "      <th>2017/ Final year</th>\n",
       "      <th>2020/ First year</th>\n",
       "    </tr>\n",
       "    <tr>\n",
       "      <th>avg_internet_usage</th>\n",
       "      <th></th>\n",
       "      <th></th>\n",
       "    </tr>\n",
       "  </thead>\n",
       "  <tbody>\n",
       "    <tr>\n",
       "      <th>0 to 2 hours per day</th>\n",
       "      <td>5</td>\n",
       "      <td>23</td>\n",
       "    </tr>\n",
       "    <tr>\n",
       "      <th>2 to 4 hours per day</th>\n",
       "      <td>7</td>\n",
       "      <td>51</td>\n",
       "    </tr>\n",
       "    <tr>\n",
       "      <th>4 to 6 hours per day</th>\n",
       "      <td>19</td>\n",
       "      <td>42</td>\n",
       "    </tr>\n",
       "    <tr>\n",
       "      <th>6 to 8 hours per day</th>\n",
       "      <td>16</td>\n",
       "      <td>14</td>\n",
       "    </tr>\n",
       "    <tr>\n",
       "      <th>more than 8 hours per day</th>\n",
       "      <td>8</td>\n",
       "      <td>9</td>\n",
       "    </tr>\n",
       "  </tbody>\n",
       "</table>\n",
       "</div>"
      ],
      "text/plain": [
       "batch                      2017/ Final year  2020/ First year\n",
       "avg_internet_usage                                           \n",
       "0 to 2 hours per day                      5                23\n",
       "2 to 4 hours per day                      7                51\n",
       "4 to 6 hours per day                     19                42\n",
       "6 to 8 hours per day                     16                14\n",
       "more than 8 hours per day                 8                 9"
      ]
     },
     "execution_count": 15,
     "metadata": {},
     "output_type": "execute_result"
    }
   ],
   "source": [
    "df[['avg_internet_usage', 'batch']].value_counts().unstack()"
   ]
  },
  {
   "cell_type": "code",
   "execution_count": null,
   "id": "6c92526f",
   "metadata": {},
   "outputs": [],
   "source": []
  }
 ],
 "metadata": {
  "kernelspec": {
   "display_name": "venv",
   "language": "python",
   "name": "python3"
  },
  "language_info": {
   "codemirror_mode": {
    "name": "ipython",
    "version": 3
   },
   "file_extension": ".py",
   "mimetype": "text/x-python",
   "name": "python",
   "nbconvert_exporter": "python",
   "pygments_lexer": "ipython3",
   "version": "3.8.10"
  }
 },
 "nbformat": 4,
 "nbformat_minor": 5
}
