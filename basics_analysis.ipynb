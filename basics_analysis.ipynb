{
 "cells": [
  {
   "cell_type": "code",
   "execution_count": 1,
   "metadata": {},
   "outputs": [],
   "source": [
    "import pandas as pd\n",
    "import matplotlib.pyplot as plt"
   ]
  },
  {
   "cell_type": "code",
   "execution_count": 2,
   "metadata": {},
   "outputs": [
    {
     "data": {
      "text/html": [
       "<div>\n",
       "<style scoped>\n",
       "    .dataframe tbody tr th:only-of-type {\n",
       "        vertical-align: middle;\n",
       "    }\n",
       "\n",
       "    .dataframe tbody tr th {\n",
       "        vertical-align: top;\n",
       "    }\n",
       "\n",
       "    .dataframe thead th {\n",
       "        text-align: right;\n",
       "    }\n",
       "</style>\n",
       "<table border=\"1\" class=\"dataframe\">\n",
       "  <thead>\n",
       "    <tr style=\"text-align: right;\">\n",
       "      <th></th>\n",
       "      <th>Unnamed: 0</th>\n",
       "      <th>id</th>\n",
       "      <th>gender</th>\n",
       "      <th>batch</th>\n",
       "      <th>avg_internet_usage</th>\n",
       "      <th>usage_type</th>\n",
       "      <th>avg_pre_covid_use</th>\n",
       "      <th>avg_post_covid_use</th>\n",
       "      <th>change_in_usage</th>\n",
       "    </tr>\n",
       "  </thead>\n",
       "  <tbody>\n",
       "    <tr>\n",
       "      <th>0</th>\n",
       "      <td>0</td>\n",
       "      <td>17/20</td>\n",
       "      <td>F</td>\n",
       "      <td>senior</td>\n",
       "      <td>6 to 8 hours per day</td>\n",
       "      <td>Online learning</td>\n",
       "      <td>4 to 6 hrs per day</td>\n",
       "      <td>6 to 8 hrs per day</td>\n",
       "      <td>INCREASED</td>\n",
       "    </tr>\n",
       "    <tr>\n",
       "      <th>1</th>\n",
       "      <td>1</td>\n",
       "      <td>17/1</td>\n",
       "      <td>F</td>\n",
       "      <td>senior</td>\n",
       "      <td>4 to 6 hours per day</td>\n",
       "      <td>Online learning</td>\n",
       "      <td>8 or more hrs per day</td>\n",
       "      <td>8 or more hrs per day</td>\n",
       "      <td>NO CHANGE</td>\n",
       "    </tr>\n",
       "    <tr>\n",
       "      <th>2</th>\n",
       "      <td>2</td>\n",
       "      <td>17/10</td>\n",
       "      <td>F</td>\n",
       "      <td>senior</td>\n",
       "      <td>more than 8 hours per day</td>\n",
       "      <td>Online learning</td>\n",
       "      <td>6 to 8 hrs per day</td>\n",
       "      <td>4 to 6 hrs per day</td>\n",
       "      <td>DECREASED</td>\n",
       "    </tr>\n",
       "    <tr>\n",
       "      <th>3</th>\n",
       "      <td>3</td>\n",
       "      <td>17/11</td>\n",
       "      <td>F</td>\n",
       "      <td>senior</td>\n",
       "      <td>6 to 8 hours per day</td>\n",
       "      <td>Online learning</td>\n",
       "      <td>2 to 4 hrs per day</td>\n",
       "      <td>8 or more hrs per day</td>\n",
       "      <td>INCREASED</td>\n",
       "    </tr>\n",
       "    <tr>\n",
       "      <th>4</th>\n",
       "      <td>4</td>\n",
       "      <td>17/12</td>\n",
       "      <td>F</td>\n",
       "      <td>senior</td>\n",
       "      <td>6 to 8 hours per day</td>\n",
       "      <td>Online learning</td>\n",
       "      <td>4 to 6 hrs per day</td>\n",
       "      <td>6 to 8 hrs per day</td>\n",
       "      <td>INCREASED</td>\n",
       "    </tr>\n",
       "  </tbody>\n",
       "</table>\n",
       "</div>"
      ],
      "text/plain": [
       "   Unnamed: 0     id gender   batch         avg_internet_usage  \\\n",
       "0           0  17/20      F  senior       6 to 8 hours per day   \n",
       "1           1   17/1      F  senior       4 to 6 hours per day   \n",
       "2           2  17/10      F  senior  more than 8 hours per day   \n",
       "3           3  17/11      F  senior       6 to 8 hours per day   \n",
       "4           4  17/12      F  senior       6 to 8 hours per day   \n",
       "\n",
       "        usage_type      avg_pre_covid_use     avg_post_covid_use  \\\n",
       "0  Online learning     4 to 6 hrs per day     6 to 8 hrs per day   \n",
       "1  Online learning  8 or more hrs per day  8 or more hrs per day   \n",
       "2  Online learning     6 to 8 hrs per day     4 to 6 hrs per day   \n",
       "3  Online learning     2 to 4 hrs per day  8 or more hrs per day   \n",
       "4  Online learning     4 to 6 hrs per day     6 to 8 hrs per day   \n",
       "\n",
       "  change_in_usage  \n",
       "0       INCREASED  \n",
       "1       NO CHANGE  \n",
       "2       DECREASED  \n",
       "3       INCREASED  \n",
       "4       INCREASED  "
      ]
     },
     "execution_count": 2,
     "metadata": {},
     "output_type": "execute_result"
    }
   ],
   "source": [
    "df = pd.read_csv('basics.csv')\n",
    "df.head()"
   ]
  },
  {
   "cell_type": "code",
   "execution_count": 3,
   "metadata": {},
   "outputs": [
    {
     "data": {
      "text/html": [
       "<div>\n",
       "<style scoped>\n",
       "    .dataframe tbody tr th:only-of-type {\n",
       "        vertical-align: middle;\n",
       "    }\n",
       "\n",
       "    .dataframe tbody tr th {\n",
       "        vertical-align: top;\n",
       "    }\n",
       "\n",
       "    .dataframe thead th {\n",
       "        text-align: right;\n",
       "    }\n",
       "</style>\n",
       "<table border=\"1\" class=\"dataframe\">\n",
       "  <thead>\n",
       "    <tr style=\"text-align: right;\">\n",
       "      <th></th>\n",
       "      <th>id</th>\n",
       "      <th>gender</th>\n",
       "      <th>batch</th>\n",
       "      <th>avg_internet_usage</th>\n",
       "      <th>usage_type</th>\n",
       "      <th>avg_pre_covid_use</th>\n",
       "      <th>avg_post_covid_use</th>\n",
       "      <th>change_in_usage</th>\n",
       "    </tr>\n",
       "  </thead>\n",
       "  <tbody>\n",
       "    <tr>\n",
       "      <th>0</th>\n",
       "      <td>17/20</td>\n",
       "      <td>F</td>\n",
       "      <td>senior</td>\n",
       "      <td>6 to 8 hours per day</td>\n",
       "      <td>Online learning</td>\n",
       "      <td>4 to 6 hrs per day</td>\n",
       "      <td>6 to 8 hrs per day</td>\n",
       "      <td>INCREASED</td>\n",
       "    </tr>\n",
       "    <tr>\n",
       "      <th>1</th>\n",
       "      <td>17/1</td>\n",
       "      <td>F</td>\n",
       "      <td>senior</td>\n",
       "      <td>4 to 6 hours per day</td>\n",
       "      <td>Online learning</td>\n",
       "      <td>8 or more hrs per day</td>\n",
       "      <td>8 or more hrs per day</td>\n",
       "      <td>NO CHANGE</td>\n",
       "    </tr>\n",
       "    <tr>\n",
       "      <th>2</th>\n",
       "      <td>17/10</td>\n",
       "      <td>F</td>\n",
       "      <td>senior</td>\n",
       "      <td>more than 8 hours per day</td>\n",
       "      <td>Online learning</td>\n",
       "      <td>6 to 8 hrs per day</td>\n",
       "      <td>4 to 6 hrs per day</td>\n",
       "      <td>DECREASED</td>\n",
       "    </tr>\n",
       "    <tr>\n",
       "      <th>3</th>\n",
       "      <td>17/11</td>\n",
       "      <td>F</td>\n",
       "      <td>senior</td>\n",
       "      <td>6 to 8 hours per day</td>\n",
       "      <td>Online learning</td>\n",
       "      <td>2 to 4 hrs per day</td>\n",
       "      <td>8 or more hrs per day</td>\n",
       "      <td>INCREASED</td>\n",
       "    </tr>\n",
       "    <tr>\n",
       "      <th>4</th>\n",
       "      <td>17/12</td>\n",
       "      <td>F</td>\n",
       "      <td>senior</td>\n",
       "      <td>6 to 8 hours per day</td>\n",
       "      <td>Online learning</td>\n",
       "      <td>4 to 6 hrs per day</td>\n",
       "      <td>6 to 8 hrs per day</td>\n",
       "      <td>INCREASED</td>\n",
       "    </tr>\n",
       "  </tbody>\n",
       "</table>\n",
       "</div>"
      ],
      "text/plain": [
       "      id gender   batch         avg_internet_usage       usage_type  \\\n",
       "0  17/20      F  senior       6 to 8 hours per day  Online learning   \n",
       "1   17/1      F  senior       4 to 6 hours per day  Online learning   \n",
       "2  17/10      F  senior  more than 8 hours per day  Online learning   \n",
       "3  17/11      F  senior       6 to 8 hours per day  Online learning   \n",
       "4  17/12      F  senior       6 to 8 hours per day  Online learning   \n",
       "\n",
       "       avg_pre_covid_use     avg_post_covid_use change_in_usage  \n",
       "0     4 to 6 hrs per day     6 to 8 hrs per day       INCREASED  \n",
       "1  8 or more hrs per day  8 or more hrs per day       NO CHANGE  \n",
       "2     6 to 8 hrs per day     4 to 6 hrs per day       DECREASED  \n",
       "3     2 to 4 hrs per day  8 or more hrs per day       INCREASED  \n",
       "4     4 to 6 hrs per day     6 to 8 hrs per day       INCREASED  "
      ]
     },
     "execution_count": 3,
     "metadata": {},
     "output_type": "execute_result"
    }
   ],
   "source": [
    "df = df.drop(columns='Unnamed: 0')\n",
    "df.head()"
   ]
  },
  {
   "cell_type": "code",
   "execution_count": 4,
   "metadata": {},
   "outputs": [
    {
     "name": "stdout",
     "output_type": "stream",
     "text": [
      "<class 'pandas.core.frame.DataFrame'>\n",
      "RangeIndex: 194 entries, 0 to 193\n",
      "Data columns (total 8 columns):\n",
      " #   Column              Non-Null Count  Dtype \n",
      "---  ------              --------------  ----- \n",
      " 0   id                  194 non-null    object\n",
      " 1   gender              194 non-null    object\n",
      " 2   batch               194 non-null    object\n",
      " 3   avg_internet_usage  194 non-null    object\n",
      " 4   usage_type          194 non-null    object\n",
      " 5   avg_pre_covid_use   194 non-null    object\n",
      " 6   avg_post_covid_use  194 non-null    object\n",
      " 7   change_in_usage     194 non-null    object\n",
      "dtypes: object(8)\n",
      "memory usage: 12.2+ KB\n"
     ]
    }
   ],
   "source": [
    "df.info()"
   ]
  },
  {
   "cell_type": "code",
   "execution_count": 5,
   "metadata": {},
   "outputs": [
    {
     "data": {
      "text/plain": [
       "gender\n",
       "M    117\n",
       "F     77\n",
       "Name: count, dtype: int64"
      ]
     },
     "execution_count": 5,
     "metadata": {},
     "output_type": "execute_result"
    }
   ],
   "source": [
    "gender_counts = df['gender'].value_counts()\n",
    "gender_counts"
   ]
  },
  {
   "cell_type": "code",
   "execution_count": 6,
   "metadata": {},
   "outputs": [
    {
     "data": {
      "image/png": "[encoded data removed]",
      "text/plain": [
       "<Figure size 600x600 with 1 Axes>"
      ]
     },
     "metadata": {},
     "output_type": "display_data"
    }
   ],
   "source": [
    "fig, ax = plt.subplots(figsize=(6,6))\n",
    "\n",
    "ax.bar(gender_counts.index, gender_counts)\n",
    "ax.set_title(\"Gender Distribution of participants\")\n",
    "ax.set_xlabel(\"Gender\")\n",
    "ax.set_ylabel(\"Count\")\n",
    "\n",
    "plt.show()"
   ]
  },
  {
   "cell_type": "code",
   "execution_count": 7,
   "metadata": {},
   "outputs": [
    {
     "data": {
      "text/html": [
       "<div>\n",
       "<style scoped>\n",
       "    .dataframe tbody tr th:only-of-type {\n",
       "        vertical-align: middle;\n",
       "    }\n",
       "\n",
       "    .dataframe tbody tr th {\n",
       "        vertical-align: top;\n",
       "    }\n",
       "\n",
       "    .dataframe thead th {\n",
       "        text-align: right;\n",
       "    }\n",
       "</style>\n",
       "<table border=\"1\" class=\"dataframe\">\n",
       "  <thead>\n",
       "    <tr style=\"text-align: right;\">\n",
       "      <th>gender</th>\n",
       "      <th>F</th>\n",
       "      <th>M</th>\n",
       "    </tr>\n",
       "    <tr>\n",
       "      <th>batch</th>\n",
       "      <th></th>\n",
       "      <th></th>\n",
       "    </tr>\n",
       "  </thead>\n",
       "  <tbody>\n",
       "    <tr>\n",
       "      <th>junior</th>\n",
       "      <td>45</td>\n",
       "      <td>94</td>\n",
       "    </tr>\n",
       "    <tr>\n",
       "      <th>senior</th>\n",
       "      <td>32</td>\n",
       "      <td>23</td>\n",
       "    </tr>\n",
       "  </tbody>\n",
       "</table>\n",
       "</div>"
      ],
      "text/plain": [
       "gender   F   M\n",
       "batch         \n",
       "junior  45  94\n",
       "senior  32  23"
      ]
     },
     "execution_count": 7,
     "metadata": {},
     "output_type": "execute_result"
    }
   ],
   "source": [
    "gender_batch_counts = df.groupby(['batch', 'gender']).size().unstack()\n",
    "gender_batch_counts"
   ]
  },
  {
   "cell_type": "code",
   "execution_count": 8,
   "metadata": {},
   "outputs": [
    {
     "data": {
      "text/plain": [
       "<Axes: xlabel='batch'>"
      ]
     },
     "execution_count": 8,
     "metadata": {},
     "output_type": "execute_result"
    },
    {
     "data": {
      "image/png": "[encoded data removed]",
      "text/plain": [
       "<Figure size 640x480 with 1 Axes>"
      ]
     },
     "metadata": {},
     "output_type": "display_data"
    }
   ],
   "source": [
    "gender_batch_counts.plot(kind='bar', stacked=True)"
   ]
  },
  {
   "cell_type": "markdown",
   "metadata": {},
   "source": [
    "So we know that the groups are unbalanced. We will keep this in mind during our analysis."
   ]
  },
  {
   "cell_type": "code",
   "execution_count": 9,
   "metadata": {},
   "outputs": [],
   "source": [
    "gender_batch_counts['F%'] = gender_batch_counts.apply(lambda row:(row['F'] / (row['F'] + row['M']))*100, axis=1)"
   ]
  },
  {
   "cell_type": "code",
   "execution_count": 10,
   "metadata": {},
   "outputs": [],
   "source": [
    "gender_batch_counts['M%'] = gender_batch_counts.apply(lambda row:(row['M'] / (row['F'] + row['M']))*100, axis=1)"
   ]
  },
  {
   "cell_type": "code",
   "execution_count": 11,
   "metadata": {},
   "outputs": [
    {
     "data": {
      "text/html": [
       "<div>\n",
       "<style scoped>\n",
       "    .dataframe tbody tr th:only-of-type {\n",
       "        vertical-align: middle;\n",
       "    }\n",
       "\n",
       "    .dataframe tbody tr th {\n",
       "        vertical-align: top;\n",
       "    }\n",
       "\n",
       "    .dataframe thead th {\n",
       "        text-align: right;\n",
       "    }\n",
       "</style>\n",
       "<table border=\"1\" class=\"dataframe\">\n",
       "  <thead>\n",
       "    <tr style=\"text-align: right;\">\n",
       "      <th>gender</th>\n",
       "      <th>F</th>\n",
       "      <th>M</th>\n",
       "      <th>F%</th>\n",
       "      <th>M%</th>\n",
       "    </tr>\n",
       "    <tr>\n",
       "      <th>batch</th>\n",
       "      <th></th>\n",
       "      <th></th>\n",
       "      <th></th>\n",
       "      <th></th>\n",
       "    </tr>\n",
       "  </thead>\n",
       "  <tbody>\n",
       "    <tr>\n",
       "      <th>junior</th>\n",
       "      <td>45</td>\n",
       "      <td>94</td>\n",
       "      <td>32.374101</td>\n",
       "      <td>67.625899</td>\n",
       "    </tr>\n",
       "    <tr>\n",
       "      <th>senior</th>\n",
       "      <td>32</td>\n",
       "      <td>23</td>\n",
       "      <td>58.181818</td>\n",
       "      <td>41.818182</td>\n",
       "    </tr>\n",
       "  </tbody>\n",
       "</table>\n",
       "</div>"
      ],
      "text/plain": [
       "gender   F   M         F%         M%\n",
       "batch                               \n",
       "junior  45  94  32.374101  67.625899\n",
       "senior  32  23  58.181818  41.818182"
      ]
     },
     "execution_count": 11,
     "metadata": {},
     "output_type": "execute_result"
    }
   ],
   "source": [
    "gender_batch_counts"
   ]
  },
  {
   "cell_type": "code",
   "execution_count": 12,
   "metadata": {},
   "outputs": [
    {
     "data": {
      "text/plain": [
       "<Axes: xlabel='batch'>"
      ]
     },
     "execution_count": 12,
     "metadata": {},
     "output_type": "execute_result"
    },
    {
     "data": {
      "image/png": "[encoded data removed]",
      "text/plain": [
       "<Figure size 640x480 with 1 Axes>"
      ]
     },
     "metadata": {},
     "output_type": "display_data"
    }
   ],
   "source": [
    "gender_batch_counts[['F%', 'M%']].plot(kind='bar', stacked=True)"
   ]
  },
  {
   "cell_type": "markdown",
   "metadata": {},
   "source": [
    "and within the groups the gender proportion is also different."
   ]
  },
  {
   "cell_type": "code",
   "execution_count": 15,
   "metadata": {},
   "outputs": [
    {
     "data": {
      "text/plain": [
       "<Axes: xlabel='avg_internet_usage'>"
      ]
     },
     "execution_count": 15,
     "metadata": {},
     "output_type": "execute_result"
    },
    {
     "data": {
      "image/png": "[encoded data removed]",
      "text/plain": [
       "<Figure size 640x480 with 1 Axes>"
      ]
     },
     "metadata": {},
     "output_type": "display_data"
    }
   ],
   "source": [
    "df['avg_internet_usage'].value_counts().sort_index().plot(kind='bar')"
   ]
  },
  {
   "cell_type": "code",
   "execution_count": 20,
   "metadata": {},
   "outputs": [
    {
     "data": {
      "text/html": [
       "<div>\n",
       "<style scoped>\n",
       "    .dataframe tbody tr th:only-of-type {\n",
       "        vertical-align: middle;\n",
       "    }\n",
       "\n",
       "    .dataframe tbody tr th {\n",
       "        vertical-align: top;\n",
       "    }\n",
       "\n",
       "    .dataframe thead th {\n",
       "        text-align: right;\n",
       "    }\n",
       "</style>\n",
       "<table border=\"1\" class=\"dataframe\">\n",
       "  <thead>\n",
       "    <tr style=\"text-align: right;\">\n",
       "      <th>batch</th>\n",
       "      <th>junior</th>\n",
       "      <th>senior</th>\n",
       "    </tr>\n",
       "    <tr>\n",
       "      <th>avg_internet_usage</th>\n",
       "      <th></th>\n",
       "      <th></th>\n",
       "    </tr>\n",
       "  </thead>\n",
       "  <tbody>\n",
       "    <tr>\n",
       "      <th>0 to 2 hours per day</th>\n",
       "      <td>23</td>\n",
       "      <td>5</td>\n",
       "    </tr>\n",
       "    <tr>\n",
       "      <th>2 to 4 hours per day</th>\n",
       "      <td>51</td>\n",
       "      <td>7</td>\n",
       "    </tr>\n",
       "    <tr>\n",
       "      <th>4 to 6 hours per day</th>\n",
       "      <td>42</td>\n",
       "      <td>19</td>\n",
       "    </tr>\n",
       "    <tr>\n",
       "      <th>6 to 8 hours per day</th>\n",
       "      <td>14</td>\n",
       "      <td>16</td>\n",
       "    </tr>\n",
       "    <tr>\n",
       "      <th>more than 8 hours per day</th>\n",
       "      <td>9</td>\n",
       "      <td>8</td>\n",
       "    </tr>\n",
       "  </tbody>\n",
       "</table>\n",
       "</div>"
      ],
      "text/plain": [
       "batch                      junior  senior\n",
       "avg_internet_usage                       \n",
       "0 to 2 hours per day           23       5\n",
       "2 to 4 hours per day           51       7\n",
       "4 to 6 hours per day           42      19\n",
       "6 to 8 hours per day           14      16\n",
       "more than 8 hours per day       9       8"
      ]
     },
     "execution_count": 20,
     "metadata": {},
     "output_type": "execute_result"
    }
   ],
   "source": [
    "internet_usage_by_batch = df.groupby(['avg_internet_usage','batch']).size().unstack()\n",
    "internet_usage_by_batch"
   ]
  },
  {
   "cell_type": "code",
   "execution_count": 23,
   "metadata": {},
   "outputs": [
    {
     "data": {
      "text/plain": [
       "<BarContainer object of 5 artists>"
      ]
     },
     "execution_count": 23,
     "metadata": {},
     "output_type": "execute_result"
    },
    {
     "data": {
      "image/png": "[encoded data removed]",
      "text/plain": [
       "<Figure size 800x400 with 1 Axes>"
      ]
     },
     "metadata": {},
     "output_type": "display_data"
    }
   ],
   "source": [
    "fig, ax = plt.subplots(figsize=(8,4))\n",
    "\n",
    "ax.bar(internet_usage_by_batch.index, internet_usage_by_batch['junior'], label='junior', color='red')\n",
    "ax.bar(internet_usage_by_batch.index, internet_usage_by_batch['senior'], label='senior', color='blue')\n"
   ]
  },
  {
   "cell_type": "code",
   "execution_count": null,
   "metadata": {},
   "outputs": [],
   "source": []
  }
 ],
 "metadata": {
  "kernelspec": {
   "display_name": "venv",
   "language": "python",
   "name": "python3"
  },
  "language_info": {
   "codemirror_mode": {
    "name": "ipython",
    "version": 3
   },
   "file_extension": ".py",
   "mimetype": "text/x-python",
   "name": "python",
   "nbconvert_exporter": "python",
   "pygments_lexer": "ipython3",
   "version": "3.8.10"
  }
 },
 "nbformat": 4,
 "nbformat_minor": 2
}
