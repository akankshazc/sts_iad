{
 "cells": [
  {
   "cell_type": "markdown",
   "id": "2eb82fe4",
   "metadata": {},
   "source": [
    "## For Covid-related questions"
   ]
  },
  {
   "cell_type": "code",
   "execution_count": 2,
   "id": "35c45a08",
   "metadata": {},
   "outputs": [],
   "source": [
    "import pandas as pd"
   ]
  },
  {
   "cell_type": "code",
   "execution_count": 3,
   "id": "870aa695",
   "metadata": {},
   "outputs": [
    {
     "data": {
      "text/html": [
       "<div>\n",
       "<style scoped>\n",
       "    .dataframe tbody tr th:only-of-type {\n",
       "        vertical-align: middle;\n",
       "    }\n",
       "\n",
       "    .dataframe tbody tr th {\n",
       "        vertical-align: top;\n",
       "    }\n",
       "\n",
       "    .dataframe thead th {\n",
       "        text-align: right;\n",
       "    }\n",
       "</style>\n",
       "<table border=\"1\" class=\"dataframe\">\n",
       "  <thead>\n",
       "    <tr style=\"text-align: right;\">\n",
       "      <th></th>\n",
       "      <th>gender</th>\n",
       "      <th>batch</th>\n",
       "      <th>avg_pre_covid_use</th>\n",
       "      <th>avg_post_covid_use</th>\n",
       "    </tr>\n",
       "  </thead>\n",
       "  <tbody>\n",
       "    <tr>\n",
       "      <th>0</th>\n",
       "      <td>Female</td>\n",
       "      <td>2017/ Final year</td>\n",
       "      <td>8 or more hrs per day</td>\n",
       "      <td>8 or more hrs per day</td>\n",
       "    </tr>\n",
       "    <tr>\n",
       "      <th>1</th>\n",
       "      <td>Male</td>\n",
       "      <td>2017/ Final year</td>\n",
       "      <td>4 to 6 hrs per day</td>\n",
       "      <td>4 to 6 hrs per day</td>\n",
       "    </tr>\n",
       "    <tr>\n",
       "      <th>2</th>\n",
       "      <td>Male</td>\n",
       "      <td>2017/ Final year</td>\n",
       "      <td>6 to 8 hrs per day</td>\n",
       "      <td>6 to 8 hrs per day</td>\n",
       "    </tr>\n",
       "    <tr>\n",
       "      <th>3</th>\n",
       "      <td>Female</td>\n",
       "      <td>2017/ Final year</td>\n",
       "      <td>4 to 6 hrs per day</td>\n",
       "      <td>6 to 8 hrs per day</td>\n",
       "    </tr>\n",
       "    <tr>\n",
       "      <th>4</th>\n",
       "      <td>Female</td>\n",
       "      <td>2017/ Final year</td>\n",
       "      <td>2 to 4 hrs per day</td>\n",
       "      <td>4 to 6 hrs per day</td>\n",
       "    </tr>\n",
       "  </tbody>\n",
       "</table>\n",
       "</div>"
      ],
      "text/plain": [
       "   gender             batch      avg_pre_covid_use     avg_post_covid_use\n",
       "0  Female  2017/ Final year  8 or more hrs per day  8 or more hrs per day\n",
       "1    Male  2017/ Final year     4 to 6 hrs per day     4 to 6 hrs per day\n",
       "2    Male  2017/ Final year     6 to 8 hrs per day     6 to 8 hrs per day\n",
       "3  Female  2017/ Final year     4 to 6 hrs per day     6 to 8 hrs per day\n",
       "4  Female  2017/ Final year     2 to 4 hrs per day     4 to 6 hrs per day"
      ]
     },
     "execution_count": 3,
     "metadata": {},
     "output_type": "execute_result"
    }
   ],
   "source": [
    "df = pd.read_csv('data/covid.csv')\n",
    "df.head()"
   ]
  },
  {
   "cell_type": "code",
   "execution_count": 4,
   "id": "6356d247",
   "metadata": {},
   "outputs": [
    {
     "data": {
      "text/html": [
       "<div>\n",
       "<style scoped>\n",
       "    .dataframe tbody tr th:only-of-type {\n",
       "        vertical-align: middle;\n",
       "    }\n",
       "\n",
       "    .dataframe tbody tr th {\n",
       "        vertical-align: top;\n",
       "    }\n",
       "\n",
       "    .dataframe thead th {\n",
       "        text-align: right;\n",
       "    }\n",
       "</style>\n",
       "<table border=\"1\" class=\"dataframe\">\n",
       "  <thead>\n",
       "    <tr style=\"text-align: right;\">\n",
       "      <th></th>\n",
       "      <th>gender</th>\n",
       "      <th>batch</th>\n",
       "      <th>avg_pre_covid_use</th>\n",
       "      <th>avg_post_covid_use</th>\n",
       "    </tr>\n",
       "  </thead>\n",
       "  <tbody>\n",
       "    <tr>\n",
       "      <th>0</th>\n",
       "      <td>F</td>\n",
       "      <td>Final</td>\n",
       "      <td>8 or more hrs per day</td>\n",
       "      <td>8 or more hrs per day</td>\n",
       "    </tr>\n",
       "    <tr>\n",
       "      <th>1</th>\n",
       "      <td>M</td>\n",
       "      <td>Final</td>\n",
       "      <td>4 to 6 hrs per day</td>\n",
       "      <td>4 to 6 hrs per day</td>\n",
       "    </tr>\n",
       "    <tr>\n",
       "      <th>2</th>\n",
       "      <td>M</td>\n",
       "      <td>Final</td>\n",
       "      <td>6 to 8 hrs per day</td>\n",
       "      <td>6 to 8 hrs per day</td>\n",
       "    </tr>\n",
       "    <tr>\n",
       "      <th>3</th>\n",
       "      <td>F</td>\n",
       "      <td>Final</td>\n",
       "      <td>4 to 6 hrs per day</td>\n",
       "      <td>6 to 8 hrs per day</td>\n",
       "    </tr>\n",
       "    <tr>\n",
       "      <th>4</th>\n",
       "      <td>F</td>\n",
       "      <td>Final</td>\n",
       "      <td>2 to 4 hrs per day</td>\n",
       "      <td>4 to 6 hrs per day</td>\n",
       "    </tr>\n",
       "  </tbody>\n",
       "</table>\n",
       "</div>"
      ],
      "text/plain": [
       "  gender  batch      avg_pre_covid_use     avg_post_covid_use\n",
       "0      F  Final  8 or more hrs per day  8 or more hrs per day\n",
       "1      M  Final     4 to 6 hrs per day     4 to 6 hrs per day\n",
       "2      M  Final     6 to 8 hrs per day     6 to 8 hrs per day\n",
       "3      F  Final     4 to 6 hrs per day     6 to 8 hrs per day\n",
       "4      F  Final     2 to 4 hrs per day     4 to 6 hrs per day"
      ]
     },
     "execution_count": 4,
     "metadata": {},
     "output_type": "execute_result"
    }
   ],
   "source": [
    "gender_dict = {'Male': 'M', 'Female': 'F'}\n",
    "batch_dict = {'2020/ First year': 'First', '2017/ Final year': 'Final'}\n",
    "\n",
    "df['gender'] = df['gender'].replace(gender_dict)\n",
    "df['batch'] = df['batch'].replace(batch_dict)\n",
    "\n",
    "df.head()"
   ]
  },
  {
   "cell_type": "code",
   "execution_count": 5,
   "id": "26db0bb3",
   "metadata": {},
   "outputs": [
    {
     "name": "stdout",
     "output_type": "stream",
     "text": [
      "<class 'pandas.core.frame.DataFrame'>\n",
      "RangeIndex: 194 entries, 0 to 193\n",
      "Data columns (total 4 columns):\n",
      " #   Column              Non-Null Count  Dtype \n",
      "---  ------              --------------  ----- \n",
      " 0   gender              194 non-null    object\n",
      " 1   batch               194 non-null    object\n",
      " 2   avg_pre_covid_use   190 non-null    object\n",
      " 3   avg_post_covid_use  191 non-null    object\n",
      "dtypes: object(4)\n",
      "memory usage: 6.2+ KB\n"
     ]
    }
   ],
   "source": [
    "df.info()"
   ]
  },
  {
   "cell_type": "code",
   "execution_count": 6,
   "id": "9138d5cb",
   "metadata": {},
   "outputs": [
    {
     "data": {
      "text/html": [
       "<div>\n",
       "<style scoped>\n",
       "    .dataframe tbody tr th:only-of-type {\n",
       "        vertical-align: middle;\n",
       "    }\n",
       "\n",
       "    .dataframe tbody tr th {\n",
       "        vertical-align: top;\n",
       "    }\n",
       "\n",
       "    .dataframe thead th {\n",
       "        text-align: right;\n",
       "    }\n",
       "</style>\n",
       "<table border=\"1\" class=\"dataframe\">\n",
       "  <thead>\n",
       "    <tr style=\"text-align: right;\">\n",
       "      <th></th>\n",
       "      <th>gender</th>\n",
       "      <th>batch</th>\n",
       "      <th>avg_pre_covid_use</th>\n",
       "      <th>avg_post_covid_use</th>\n",
       "    </tr>\n",
       "  </thead>\n",
       "  <tbody>\n",
       "    <tr>\n",
       "      <th>count</th>\n",
       "      <td>194</td>\n",
       "      <td>194</td>\n",
       "      <td>190</td>\n",
       "      <td>191</td>\n",
       "    </tr>\n",
       "    <tr>\n",
       "      <th>unique</th>\n",
       "      <td>2</td>\n",
       "      <td>2</td>\n",
       "      <td>5</td>\n",
       "      <td>5</td>\n",
       "    </tr>\n",
       "    <tr>\n",
       "      <th>top</th>\n",
       "      <td>M</td>\n",
       "      <td>First</td>\n",
       "      <td>0 to 2 hrs per day</td>\n",
       "      <td>2 to 4 hrs per day</td>\n",
       "    </tr>\n",
       "    <tr>\n",
       "      <th>freq</th>\n",
       "      <td>117</td>\n",
       "      <td>139</td>\n",
       "      <td>53</td>\n",
       "      <td>53</td>\n",
       "    </tr>\n",
       "  </tbody>\n",
       "</table>\n",
       "</div>"
      ],
      "text/plain": [
       "       gender  batch   avg_pre_covid_use  avg_post_covid_use\n",
       "count     194    194                 190                 191\n",
       "unique      2      2                   5                   5\n",
       "top         M  First  0 to 2 hrs per day  2 to 4 hrs per day\n",
       "freq      117    139                  53                  53"
      ]
     },
     "execution_count": 6,
     "metadata": {},
     "output_type": "execute_result"
    }
   ],
   "source": [
    "df.describe()"
   ]
  },
  {
   "cell_type": "markdown",
   "id": "f62b8fd7",
   "metadata": {},
   "source": [
    "## Changes in usage"
   ]
  },
  {
   "cell_type": "code",
   "execution_count": 16,
   "id": "07febe11",
   "metadata": {},
   "outputs": [
    {
     "data": {
      "text/plain": [
       "avg_pre_covid_use\n",
       "0 to 2 hrs per day       53\n",
       "2 to 4 hrs per day       50\n",
       "4 to 6 hrs per day       48\n",
       "6 to 8 hrs per day       23\n",
       "8 or more hrs per day    16\n",
       "Name: count, dtype: int64"
      ]
     },
     "execution_count": 16,
     "metadata": {},
     "output_type": "execute_result"
    }
   ],
   "source": [
    "pre_counts = df['avg_pre_covid_use'].value_counts().sort_index()\n",
    "pre_counts "
   ]
  },
  {
   "cell_type": "code",
   "execution_count": 17,
   "id": "900f59c4",
   "metadata": {},
   "outputs": [
    {
     "data": {
      "text/plain": [
       "avg_post_covid_use\n",
       "0 to 2 hrs per day       19\n",
       "2 to 4 hrs per day       53\n",
       "4 to 6 hrs per day       50\n",
       "6 to 8 hrs per day       41\n",
       "8 or more hrs per day    28\n",
       "Name: count, dtype: int64"
      ]
     },
     "execution_count": 17,
     "metadata": {},
     "output_type": "execute_result"
    }
   ],
   "source": [
    "post_counts = df['avg_post_covid_use'].value_counts().sort_index()\n",
    "post_counts"
   ]
  },
  {
   "cell_type": "code",
   "execution_count": 18,
   "id": "4642a8d4",
   "metadata": {},
   "outputs": [
    {
     "data": {
      "text/plain": [
       "<Axes: title={'center': 'Pre-COVID Usage'}, xlabel='avg_pre_covid_use'>"
      ]
     },
     "execution_count": 18,
     "metadata": {},
     "output_type": "execute_result"
    },
    {
     "data": {
      "image/png": "[encoded data removed]",
      "text/plain": [
       "<Figure size 640x480 with 1 Axes>"
      ]
     },
     "metadata": {},
     "output_type": "display_data"
    }
   ],
   "source": [
    "pre_counts.plot(kind='bar', title='Pre-COVID Usage')"
   ]
  },
  {
   "cell_type": "code",
   "execution_count": 19,
   "id": "ffc94d20",
   "metadata": {},
   "outputs": [
    {
     "data": {
      "text/plain": [
       "<Axes: title={'center': 'Post-COVID Usage'}, xlabel='avg_post_covid_use'>"
      ]
     },
     "execution_count": 19,
     "metadata": {},
     "output_type": "execute_result"
    },
    {
     "data": {
      "image/png": "[encoded data removed]",
      "text/plain": [
       "<Figure size 640x480 with 1 Axes>"
      ]
     },
     "metadata": {},
     "output_type": "display_data"
    }
   ],
   "source": [
    "post_counts.plot(kind='bar', title='Post-COVID Usage')"
   ]
  },
  {
   "cell_type": "markdown",
   "id": "c9423610",
   "metadata": {},
   "source": [
    "There is a marked shift from less to more hours per day."
   ]
  },
  {
   "cell_type": "code",
   "execution_count": null,
   "id": "489353f0",
   "metadata": {},
   "outputs": [],
   "source": []
  }
 ],
 "metadata": {
  "kernelspec": {
   "display_name": "venv",
   "language": "python",
   "name": "python3"
  },
  "language_info": {
   "codemirror_mode": {
    "name": "ipython",
    "version": 3
   },
   "file_extension": ".py",
   "mimetype": "text/x-python",
   "name": "python",
   "nbconvert_exporter": "python",
   "pygments_lexer": "ipython3",
   "version": "3.8.10"
  }
 },
 "nbformat": 4,
 "nbformat_minor": 5
}
