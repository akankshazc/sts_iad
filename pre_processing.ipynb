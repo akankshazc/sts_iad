{
 "cells": [
  {
   "cell_type": "code",
   "execution_count": 2,
   "metadata": {},
   "outputs": [],
   "source": [
    "import pandas as pd\n",
    "import numpy as np\n",
    "import matplotlib.pyplot as plt"
   ]
  },
  {
   "cell_type": "markdown",
   "metadata": {},
   "source": [
    "Lets import the csv file of the final coded responses. Remember that this is the final file along with all the analysis that we will try to do during the courses of this project. We will compare our outputs to the ones in this file."
   ]
  },
  {
   "cell_type": "code",
   "execution_count": 30,
   "metadata": {},
   "outputs": [
    {
     "data": {
      "text/html": [
       "<div>\n",
       "<style scoped>\n",
       "    .dataframe tbody tr th:only-of-type {\n",
       "        vertical-align: middle;\n",
       "    }\n",
       "\n",
       "    .dataframe tbody tr th {\n",
       "        vertical-align: top;\n",
       "    }\n",
       "\n",
       "    .dataframe thead th {\n",
       "        text-align: right;\n",
       "    }\n",
       "</style>\n",
       "<table border=\"1\" class=\"dataframe\">\n",
       "  <thead>\n",
       "    <tr style=\"text-align: right;\">\n",
       "      <th></th>\n",
       "      <th>Unnamed: 0</th>\n",
       "      <th>id</th>\n",
       "      <th>gender</th>\n",
       "      <th>gender_coded</th>\n",
       "      <th>batch</th>\n",
       "      <th>batch_coded</th>\n",
       "      <th>avg_internet_usage</th>\n",
       "      <th>avg_internet_usage_coded</th>\n",
       "      <th>usage_type</th>\n",
       "      <th>usage_type_coded</th>\n",
       "      <th>...</th>\n",
       "      <th>environment_score_raw</th>\n",
       "      <th>environment_score</th>\n",
       "      <th>environment_domain_round</th>\n",
       "      <th>environment_domain_range</th>\n",
       "      <th>avg_pre_covid_use</th>\n",
       "      <th>avg_pre_covid_use_coded</th>\n",
       "      <th>avg_post_covid_use</th>\n",
       "      <th>avg_post_covid_use_coded</th>\n",
       "      <th>change_in_usage</th>\n",
       "      <th>change_in_usage_coded</th>\n",
       "    </tr>\n",
       "  </thead>\n",
       "  <tbody>\n",
       "    <tr>\n",
       "      <th>0</th>\n",
       "      <td>0</td>\n",
       "      <td>17/20</td>\n",
       "      <td>Female</td>\n",
       "      <td>1</td>\n",
       "      <td>Final yr</td>\n",
       "      <td>1</td>\n",
       "      <td>6 to 8 hours per day</td>\n",
       "      <td>4</td>\n",
       "      <td>Online lecture Marrow</td>\n",
       "      <td>8</td>\n",
       "      <td>...</td>\n",
       "      <td>23</td>\n",
       "      <td>11.5</td>\n",
       "      <td>12</td>\n",
       "      <td>9-12</td>\n",
       "      <td>4 to 6 hrs per day</td>\n",
       "      <td>3</td>\n",
       "      <td>6 to 8 hrs per day</td>\n",
       "      <td>4</td>\n",
       "      <td>INCREASED</td>\n",
       "      <td>1</td>\n",
       "    </tr>\n",
       "    <tr>\n",
       "      <th>1</th>\n",
       "      <td>1</td>\n",
       "      <td>17/1</td>\n",
       "      <td>Female</td>\n",
       "      <td>1</td>\n",
       "      <td>Final yr</td>\n",
       "      <td>1</td>\n",
       "      <td>4 to 6 hours per day</td>\n",
       "      <td>3</td>\n",
       "      <td>Online learning</td>\n",
       "      <td>1</td>\n",
       "      <td>...</td>\n",
       "      <td>40</td>\n",
       "      <td>20.0</td>\n",
       "      <td>20</td>\n",
       "      <td>17-20</td>\n",
       "      <td>8 or more hrs per day</td>\n",
       "      <td>5</td>\n",
       "      <td>8 or more hrs per day</td>\n",
       "      <td>5</td>\n",
       "      <td>NO CHANGE</td>\n",
       "      <td>3</td>\n",
       "    </tr>\n",
       "    <tr>\n",
       "      <th>2</th>\n",
       "      <td>2</td>\n",
       "      <td>17/10</td>\n",
       "      <td>Female</td>\n",
       "      <td>1</td>\n",
       "      <td>Final yr</td>\n",
       "      <td>1</td>\n",
       "      <td>more than 8 hours per day</td>\n",
       "      <td>5</td>\n",
       "      <td>Online learning</td>\n",
       "      <td>1</td>\n",
       "      <td>...</td>\n",
       "      <td>22</td>\n",
       "      <td>11.0</td>\n",
       "      <td>11</td>\n",
       "      <td>9-12</td>\n",
       "      <td>6 to 8 hrs per day</td>\n",
       "      <td>4</td>\n",
       "      <td>4 to 6 hrs per day</td>\n",
       "      <td>3</td>\n",
       "      <td>DECREASED</td>\n",
       "      <td>2</td>\n",
       "    </tr>\n",
       "    <tr>\n",
       "      <th>3</th>\n",
       "      <td>3</td>\n",
       "      <td>17/11</td>\n",
       "      <td>Female</td>\n",
       "      <td>1</td>\n",
       "      <td>Final yr</td>\n",
       "      <td>1</td>\n",
       "      <td>6 to 8 hours per day</td>\n",
       "      <td>4</td>\n",
       "      <td>Online learning</td>\n",
       "      <td>1</td>\n",
       "      <td>...</td>\n",
       "      <td>28</td>\n",
       "      <td>14.0</td>\n",
       "      <td>14</td>\n",
       "      <td>13-16</td>\n",
       "      <td>2 to 4 hrs per day</td>\n",
       "      <td>2</td>\n",
       "      <td>8 or more hrs per day</td>\n",
       "      <td>5</td>\n",
       "      <td>INCREASED</td>\n",
       "      <td>1</td>\n",
       "    </tr>\n",
       "    <tr>\n",
       "      <th>4</th>\n",
       "      <td>4</td>\n",
       "      <td>17/12</td>\n",
       "      <td>Female</td>\n",
       "      <td>1</td>\n",
       "      <td>Final yr</td>\n",
       "      <td>1</td>\n",
       "      <td>6 to 8 hours per day</td>\n",
       "      <td>4</td>\n",
       "      <td>Online learning</td>\n",
       "      <td>1</td>\n",
       "      <td>...</td>\n",
       "      <td>26</td>\n",
       "      <td>13.0</td>\n",
       "      <td>13</td>\n",
       "      <td>13-16</td>\n",
       "      <td>4 to 6 hrs per day</td>\n",
       "      <td>3</td>\n",
       "      <td>6 to 8 hrs per day</td>\n",
       "      <td>4</td>\n",
       "      <td>INCREASED</td>\n",
       "      <td>1</td>\n",
       "    </tr>\n",
       "  </tbody>\n",
       "</table>\n",
       "<p>5 rows × 105 columns</p>\n",
       "</div>"
      ],
      "text/plain": [
       "   Unnamed: 0     id  gender  gender_coded     batch  batch_coded  \\\n",
       "0           0  17/20  Female             1  Final yr            1   \n",
       "1           1   17/1  Female             1  Final yr            1   \n",
       "2           2  17/10  Female             1  Final yr            1   \n",
       "3           3  17/11  Female             1  Final yr            1   \n",
       "4           4  17/12  Female             1  Final yr            1   \n",
       "\n",
       "          avg_internet_usage  avg_internet_usage_coded             usage_type  \\\n",
       "0       6 to 8 hours per day                         4  Online lecture Marrow   \n",
       "1       4 to 6 hours per day                         3        Online learning   \n",
       "2  more than 8 hours per day                         5        Online learning   \n",
       "3       6 to 8 hours per day                         4        Online learning   \n",
       "4       6 to 8 hours per day                         4        Online learning   \n",
       "\n",
       "   usage_type_coded  ...  environment_score_raw  environment_score  \\\n",
       "0                 8  ...                     23               11.5   \n",
       "1                 1  ...                     40               20.0   \n",
       "2                 1  ...                     22               11.0   \n",
       "3                 1  ...                     28               14.0   \n",
       "4                 1  ...                     26               13.0   \n",
       "\n",
       "   environment_domain_round  environment_domain_range      avg_pre_covid_use  \\\n",
       "0                        12                      9-12     4 to 6 hrs per day   \n",
       "1                        20                     17-20  8 or more hrs per day   \n",
       "2                        11                      9-12     6 to 8 hrs per day   \n",
       "3                        14                     13-16     2 to 4 hrs per day   \n",
       "4                        13                     13-16     4 to 6 hrs per day   \n",
       "\n",
       "   avg_pre_covid_use_coded     avg_post_covid_use  avg_post_covid_use_coded  \\\n",
       "0                        3     6 to 8 hrs per day                         4   \n",
       "1                        5  8 or more hrs per day                         5   \n",
       "2                        4     4 to 6 hrs per day                         3   \n",
       "3                        2  8 or more hrs per day                         5   \n",
       "4                        3     6 to 8 hrs per day                         4   \n",
       "\n",
       "   change_in_usage  change_in_usage_coded  \n",
       "0        INCREASED                      1  \n",
       "1        NO CHANGE                      3  \n",
       "2        DECREASED                      2  \n",
       "3        INCREASED                      1  \n",
       "4        INCREASED                      1  \n",
       "\n",
       "[5 rows x 105 columns]"
      ]
     },
     "execution_count": 30,
     "metadata": {},
     "output_type": "execute_result"
    }
   ],
   "source": [
    "responses = pd.read_csv('coded_responses.csv')\n",
    "responses.head()"
   ]
  },
  {
   "cell_type": "code",
   "execution_count": 31,
   "metadata": {},
   "outputs": [
    {
     "data": {
      "text/plain": [
       "(194, 105)"
      ]
     },
     "execution_count": 31,
     "metadata": {},
     "output_type": "execute_result"
    }
   ],
   "source": [
    "responses.shape"
   ]
  },
  {
   "cell_type": "markdown",
   "metadata": {},
   "source": [
    "So we have the original 194 responses and 105 columns. but the first column is just a previous index. we can drop it."
   ]
  },
  {
   "cell_type": "code",
   "execution_count": 32,
   "metadata": {},
   "outputs": [],
   "source": [
    "responses = responses.drop(columns='Unnamed: 0')"
   ]
  },
  {
   "cell_type": "code",
   "execution_count": 33,
   "metadata": {},
   "outputs": [
    {
     "data": {
      "text/html": [
       "<div>\n",
       "<style scoped>\n",
       "    .dataframe tbody tr th:only-of-type {\n",
       "        vertical-align: middle;\n",
       "    }\n",
       "\n",
       "    .dataframe tbody tr th {\n",
       "        vertical-align: top;\n",
       "    }\n",
       "\n",
       "    .dataframe thead th {\n",
       "        text-align: right;\n",
       "    }\n",
       "</style>\n",
       "<table border=\"1\" class=\"dataframe\">\n",
       "  <thead>\n",
       "    <tr style=\"text-align: right;\">\n",
       "      <th></th>\n",
       "      <th>id</th>\n",
       "      <th>gender</th>\n",
       "      <th>gender_coded</th>\n",
       "      <th>batch</th>\n",
       "      <th>batch_coded</th>\n",
       "      <th>avg_internet_usage</th>\n",
       "      <th>avg_internet_usage_coded</th>\n",
       "      <th>usage_type</th>\n",
       "      <th>usage_type_coded</th>\n",
       "      <th>iat_1</th>\n",
       "      <th>...</th>\n",
       "      <th>environment_score_raw</th>\n",
       "      <th>environment_score</th>\n",
       "      <th>environment_domain_round</th>\n",
       "      <th>environment_domain_range</th>\n",
       "      <th>avg_pre_covid_use</th>\n",
       "      <th>avg_pre_covid_use_coded</th>\n",
       "      <th>avg_post_covid_use</th>\n",
       "      <th>avg_post_covid_use_coded</th>\n",
       "      <th>change_in_usage</th>\n",
       "      <th>change_in_usage_coded</th>\n",
       "    </tr>\n",
       "  </thead>\n",
       "  <tbody>\n",
       "    <tr>\n",
       "      <th>0</th>\n",
       "      <td>17/20</td>\n",
       "      <td>Female</td>\n",
       "      <td>1</td>\n",
       "      <td>Final yr</td>\n",
       "      <td>1</td>\n",
       "      <td>6 to 8 hours per day</td>\n",
       "      <td>4</td>\n",
       "      <td>Online lecture Marrow</td>\n",
       "      <td>8</td>\n",
       "      <td>2</td>\n",
       "      <td>...</td>\n",
       "      <td>23</td>\n",
       "      <td>11.5</td>\n",
       "      <td>12</td>\n",
       "      <td>9-12</td>\n",
       "      <td>4 to 6 hrs per day</td>\n",
       "      <td>3</td>\n",
       "      <td>6 to 8 hrs per day</td>\n",
       "      <td>4</td>\n",
       "      <td>INCREASED</td>\n",
       "      <td>1</td>\n",
       "    </tr>\n",
       "    <tr>\n",
       "      <th>1</th>\n",
       "      <td>17/1</td>\n",
       "      <td>Female</td>\n",
       "      <td>1</td>\n",
       "      <td>Final yr</td>\n",
       "      <td>1</td>\n",
       "      <td>4 to 6 hours per day</td>\n",
       "      <td>3</td>\n",
       "      <td>Online learning</td>\n",
       "      <td>1</td>\n",
       "      <td>3</td>\n",
       "      <td>...</td>\n",
       "      <td>40</td>\n",
       "      <td>20.0</td>\n",
       "      <td>20</td>\n",
       "      <td>17-20</td>\n",
       "      <td>8 or more hrs per day</td>\n",
       "      <td>5</td>\n",
       "      <td>8 or more hrs per day</td>\n",
       "      <td>5</td>\n",
       "      <td>NO CHANGE</td>\n",
       "      <td>3</td>\n",
       "    </tr>\n",
       "    <tr>\n",
       "      <th>2</th>\n",
       "      <td>17/10</td>\n",
       "      <td>Female</td>\n",
       "      <td>1</td>\n",
       "      <td>Final yr</td>\n",
       "      <td>1</td>\n",
       "      <td>more than 8 hours per day</td>\n",
       "      <td>5</td>\n",
       "      <td>Online learning</td>\n",
       "      <td>1</td>\n",
       "      <td>3</td>\n",
       "      <td>...</td>\n",
       "      <td>22</td>\n",
       "      <td>11.0</td>\n",
       "      <td>11</td>\n",
       "      <td>9-12</td>\n",
       "      <td>6 to 8 hrs per day</td>\n",
       "      <td>4</td>\n",
       "      <td>4 to 6 hrs per day</td>\n",
       "      <td>3</td>\n",
       "      <td>DECREASED</td>\n",
       "      <td>2</td>\n",
       "    </tr>\n",
       "    <tr>\n",
       "      <th>3</th>\n",
       "      <td>17/11</td>\n",
       "      <td>Female</td>\n",
       "      <td>1</td>\n",
       "      <td>Final yr</td>\n",
       "      <td>1</td>\n",
       "      <td>6 to 8 hours per day</td>\n",
       "      <td>4</td>\n",
       "      <td>Online learning</td>\n",
       "      <td>1</td>\n",
       "      <td>2</td>\n",
       "      <td>...</td>\n",
       "      <td>28</td>\n",
       "      <td>14.0</td>\n",
       "      <td>14</td>\n",
       "      <td>13-16</td>\n",
       "      <td>2 to 4 hrs per day</td>\n",
       "      <td>2</td>\n",
       "      <td>8 or more hrs per day</td>\n",
       "      <td>5</td>\n",
       "      <td>INCREASED</td>\n",
       "      <td>1</td>\n",
       "    </tr>\n",
       "    <tr>\n",
       "      <th>4</th>\n",
       "      <td>17/12</td>\n",
       "      <td>Female</td>\n",
       "      <td>1</td>\n",
       "      <td>Final yr</td>\n",
       "      <td>1</td>\n",
       "      <td>6 to 8 hours per day</td>\n",
       "      <td>4</td>\n",
       "      <td>Online learning</td>\n",
       "      <td>1</td>\n",
       "      <td>4</td>\n",
       "      <td>...</td>\n",
       "      <td>26</td>\n",
       "      <td>13.0</td>\n",
       "      <td>13</td>\n",
       "      <td>13-16</td>\n",
       "      <td>4 to 6 hrs per day</td>\n",
       "      <td>3</td>\n",
       "      <td>6 to 8 hrs per day</td>\n",
       "      <td>4</td>\n",
       "      <td>INCREASED</td>\n",
       "      <td>1</td>\n",
       "    </tr>\n",
       "  </tbody>\n",
       "</table>\n",
       "<p>5 rows × 104 columns</p>\n",
       "</div>"
      ],
      "text/plain": [
       "      id  gender  gender_coded     batch  batch_coded  \\\n",
       "0  17/20  Female             1  Final yr            1   \n",
       "1   17/1  Female             1  Final yr            1   \n",
       "2  17/10  Female             1  Final yr            1   \n",
       "3  17/11  Female             1  Final yr            1   \n",
       "4  17/12  Female             1  Final yr            1   \n",
       "\n",
       "          avg_internet_usage  avg_internet_usage_coded             usage_type  \\\n",
       "0       6 to 8 hours per day                         4  Online lecture Marrow   \n",
       "1       4 to 6 hours per day                         3        Online learning   \n",
       "2  more than 8 hours per day                         5        Online learning   \n",
       "3       6 to 8 hours per day                         4        Online learning   \n",
       "4       6 to 8 hours per day                         4        Online learning   \n",
       "\n",
       "   usage_type_coded  iat_1  ...  environment_score_raw  environment_score  \\\n",
       "0                 8      2  ...                     23               11.5   \n",
       "1                 1      3  ...                     40               20.0   \n",
       "2                 1      3  ...                     22               11.0   \n",
       "3                 1      2  ...                     28               14.0   \n",
       "4                 1      4  ...                     26               13.0   \n",
       "\n",
       "   environment_domain_round  environment_domain_range      avg_pre_covid_use  \\\n",
       "0                        12                      9-12     4 to 6 hrs per day   \n",
       "1                        20                     17-20  8 or more hrs per day   \n",
       "2                        11                      9-12     6 to 8 hrs per day   \n",
       "3                        14                     13-16     2 to 4 hrs per day   \n",
       "4                        13                     13-16     4 to 6 hrs per day   \n",
       "\n",
       "   avg_pre_covid_use_coded     avg_post_covid_use  avg_post_covid_use_coded  \\\n",
       "0                        3     6 to 8 hrs per day                         4   \n",
       "1                        5  8 or more hrs per day                         5   \n",
       "2                        4     4 to 6 hrs per day                         3   \n",
       "3                        2  8 or more hrs per day                         5   \n",
       "4                        3     6 to 8 hrs per day                         4   \n",
       "\n",
       "   change_in_usage  change_in_usage_coded  \n",
       "0        INCREASED                      1  \n",
       "1        NO CHANGE                      3  \n",
       "2        DECREASED                      2  \n",
       "3        INCREASED                      1  \n",
       "4        INCREASED                      1  \n",
       "\n",
       "[5 rows x 104 columns]"
      ]
     },
     "execution_count": 33,
     "metadata": {},
     "output_type": "execute_result"
    }
   ],
   "source": [
    "responses.head()"
   ]
  },
  {
   "cell_type": "code",
   "execution_count": 34,
   "metadata": {},
   "outputs": [
    {
     "name": "stdout",
     "output_type": "stream",
     "text": [
      "<class 'pandas.core.frame.DataFrame'>\n",
      "RangeIndex: 194 entries, 0 to 193\n",
      "Columns: 104 entries, id to change_in_usage_coded\n",
      "dtypes: float64(11), int64(73), object(20)\n",
      "memory usage: 157.8+ KB\n"
     ]
    }
   ],
   "source": [
    "responses.info()"
   ]
  },
  {
   "cell_type": "markdown",
   "metadata": {},
   "source": [
    "if you look closely a lot of these columns are just a code to convert a categorical column to the numerical one. we can drop the codes for now. "
   ]
  },
  {
   "cell_type": "code",
   "execution_count": 35,
   "metadata": {},
   "outputs": [],
   "source": [
    "df = responses.copy()"
   ]
  },
  {
   "cell_type": "code",
   "execution_count": 36,
   "metadata": {},
   "outputs": [
    {
     "data": {
      "text/plain": [
       "Index(['id', 'gender', 'gender_coded', 'batch', 'batch_coded',\n",
       "       'avg_internet_usage', 'avg_internet_usage_coded', 'usage_type',\n",
       "       'usage_type_coded', 'iat_1',\n",
       "       ...\n",
       "       'environment_score_raw', 'environment_score',\n",
       "       'environment_domain_round', 'environment_domain_range',\n",
       "       'avg_pre_covid_use', 'avg_pre_covid_use_coded', 'avg_post_covid_use',\n",
       "       'avg_post_covid_use_coded', 'change_in_usage', 'change_in_usage_coded'],\n",
       "      dtype='object', length=104)"
      ]
     },
     "execution_count": 36,
     "metadata": {},
     "output_type": "execute_result"
    }
   ],
   "source": [
    "df.columns"
   ]
  },
  {
   "cell_type": "code",
   "execution_count": 37,
   "metadata": {},
   "outputs": [
    {
     "data": {
      "text/plain": [
       "(194, 95)"
      ]
     },
     "execution_count": 37,
     "metadata": {},
     "output_type": "execute_result"
    }
   ],
   "source": [
    "df = df.drop(columns=['gender_coded', 'batch_coded', 'avg_internet_usage_coded', 'usage_type_coded',\n",
    "                      'iat_range_coded', 'qol_range_coded', 'avg_pre_covid_use_coded', \n",
    "                      'avg_post_covid_use_coded', 'change_in_usage_coded'])\n",
    "df.shape"
   ]
  },
  {
   "cell_type": "markdown",
   "metadata": {},
   "source": [
    "so we are already down a few columns"
   ]
  },
  {
   "cell_type": "code",
   "execution_count": 38,
   "metadata": {},
   "outputs": [
    {
     "data": {
      "text/html": [
       "<div>\n",
       "<style scoped>\n",
       "    .dataframe tbody tr th:only-of-type {\n",
       "        vertical-align: middle;\n",
       "    }\n",
       "\n",
       "    .dataframe tbody tr th {\n",
       "        vertical-align: top;\n",
       "    }\n",
       "\n",
       "    .dataframe thead th {\n",
       "        text-align: right;\n",
       "    }\n",
       "</style>\n",
       "<table border=\"1\" class=\"dataframe\">\n",
       "  <thead>\n",
       "    <tr style=\"text-align: right;\">\n",
       "      <th></th>\n",
       "      <th>id</th>\n",
       "      <th>gender</th>\n",
       "      <th>batch</th>\n",
       "      <th>avg_internet_usage</th>\n",
       "      <th>usage_type</th>\n",
       "      <th>iat_1</th>\n",
       "      <th>iat_2</th>\n",
       "      <th>iat_3</th>\n",
       "      <th>iat_4</th>\n",
       "      <th>iat_5</th>\n",
       "      <th>...</th>\n",
       "      <th>social_score</th>\n",
       "      <th>social_domain_round</th>\n",
       "      <th>social_domain_range</th>\n",
       "      <th>environment_score_raw</th>\n",
       "      <th>environment_score</th>\n",
       "      <th>environment_domain_round</th>\n",
       "      <th>environment_domain_range</th>\n",
       "      <th>avg_pre_covid_use</th>\n",
       "      <th>avg_post_covid_use</th>\n",
       "      <th>change_in_usage</th>\n",
       "    </tr>\n",
       "  </thead>\n",
       "  <tbody>\n",
       "    <tr>\n",
       "      <th>0</th>\n",
       "      <td>17/20</td>\n",
       "      <td>Female</td>\n",
       "      <td>Final yr</td>\n",
       "      <td>6 to 8 hours per day</td>\n",
       "      <td>Online lecture Marrow</td>\n",
       "      <td>2</td>\n",
       "      <td>2</td>\n",
       "      <td>0</td>\n",
       "      <td>1</td>\n",
       "      <td>2</td>\n",
       "      <td>...</td>\n",
       "      <td>10.666667</td>\n",
       "      <td>11</td>\n",
       "      <td>9-12</td>\n",
       "      <td>23</td>\n",
       "      <td>11.5</td>\n",
       "      <td>12</td>\n",
       "      <td>9-12</td>\n",
       "      <td>4 to 6 hrs per day</td>\n",
       "      <td>6 to 8 hrs per day</td>\n",
       "      <td>INCREASED</td>\n",
       "    </tr>\n",
       "    <tr>\n",
       "      <th>1</th>\n",
       "      <td>17/1</td>\n",
       "      <td>Female</td>\n",
       "      <td>Final yr</td>\n",
       "      <td>4 to 6 hours per day</td>\n",
       "      <td>Online learning</td>\n",
       "      <td>3</td>\n",
       "      <td>3</td>\n",
       "      <td>0</td>\n",
       "      <td>0</td>\n",
       "      <td>1</td>\n",
       "      <td>...</td>\n",
       "      <td>9.333333</td>\n",
       "      <td>9</td>\n",
       "      <td>9-12</td>\n",
       "      <td>40</td>\n",
       "      <td>20.0</td>\n",
       "      <td>20</td>\n",
       "      <td>17-20</td>\n",
       "      <td>8 or more hrs per day</td>\n",
       "      <td>8 or more hrs per day</td>\n",
       "      <td>NO CHANGE</td>\n",
       "    </tr>\n",
       "    <tr>\n",
       "      <th>2</th>\n",
       "      <td>17/10</td>\n",
       "      <td>Female</td>\n",
       "      <td>Final yr</td>\n",
       "      <td>more than 8 hours per day</td>\n",
       "      <td>Online learning</td>\n",
       "      <td>3</td>\n",
       "      <td>1</td>\n",
       "      <td>0</td>\n",
       "      <td>0</td>\n",
       "      <td>1</td>\n",
       "      <td>...</td>\n",
       "      <td>16.000000</td>\n",
       "      <td>16</td>\n",
       "      <td>13-16</td>\n",
       "      <td>22</td>\n",
       "      <td>11.0</td>\n",
       "      <td>11</td>\n",
       "      <td>9-12</td>\n",
       "      <td>6 to 8 hrs per day</td>\n",
       "      <td>4 to 6 hrs per day</td>\n",
       "      <td>DECREASED</td>\n",
       "    </tr>\n",
       "    <tr>\n",
       "      <th>3</th>\n",
       "      <td>17/11</td>\n",
       "      <td>Female</td>\n",
       "      <td>Final yr</td>\n",
       "      <td>6 to 8 hours per day</td>\n",
       "      <td>Online learning</td>\n",
       "      <td>2</td>\n",
       "      <td>0</td>\n",
       "      <td>0</td>\n",
       "      <td>0</td>\n",
       "      <td>1</td>\n",
       "      <td>...</td>\n",
       "      <td>8.000000</td>\n",
       "      <td>8</td>\n",
       "      <td>4-8</td>\n",
       "      <td>28</td>\n",
       "      <td>14.0</td>\n",
       "      <td>14</td>\n",
       "      <td>13-16</td>\n",
       "      <td>2 to 4 hrs per day</td>\n",
       "      <td>8 or more hrs per day</td>\n",
       "      <td>INCREASED</td>\n",
       "    </tr>\n",
       "    <tr>\n",
       "      <th>4</th>\n",
       "      <td>17/12</td>\n",
       "      <td>Female</td>\n",
       "      <td>Final yr</td>\n",
       "      <td>6 to 8 hours per day</td>\n",
       "      <td>Online learning</td>\n",
       "      <td>4</td>\n",
       "      <td>3</td>\n",
       "      <td>0</td>\n",
       "      <td>1</td>\n",
       "      <td>4</td>\n",
       "      <td>...</td>\n",
       "      <td>14.666667</td>\n",
       "      <td>15</td>\n",
       "      <td>13-16</td>\n",
       "      <td>26</td>\n",
       "      <td>13.0</td>\n",
       "      <td>13</td>\n",
       "      <td>13-16</td>\n",
       "      <td>4 to 6 hrs per day</td>\n",
       "      <td>6 to 8 hrs per day</td>\n",
       "      <td>INCREASED</td>\n",
       "    </tr>\n",
       "  </tbody>\n",
       "</table>\n",
       "<p>5 rows × 95 columns</p>\n",
       "</div>"
      ],
      "text/plain": [
       "      id  gender     batch         avg_internet_usage             usage_type  \\\n",
       "0  17/20  Female  Final yr       6 to 8 hours per day  Online lecture Marrow   \n",
       "1   17/1  Female  Final yr       4 to 6 hours per day        Online learning   \n",
       "2  17/10  Female  Final yr  more than 8 hours per day        Online learning   \n",
       "3  17/11  Female  Final yr       6 to 8 hours per day        Online learning   \n",
       "4  17/12  Female  Final yr       6 to 8 hours per day        Online learning   \n",
       "\n",
       "   iat_1  iat_2  iat_3  iat_4  iat_5  ...  social_score  social_domain_round  \\\n",
       "0      2      2      0      1      2  ...     10.666667                   11   \n",
       "1      3      3      0      0      1  ...      9.333333                    9   \n",
       "2      3      1      0      0      1  ...     16.000000                   16   \n",
       "3      2      0      0      0      1  ...      8.000000                    8   \n",
       "4      4      3      0      1      4  ...     14.666667                   15   \n",
       "\n",
       "   social_domain_range  environment_score_raw  environment_score  \\\n",
       "0                 9-12                     23               11.5   \n",
       "1                 9-12                     40               20.0   \n",
       "2                13-16                     22               11.0   \n",
       "3                  4-8                     28               14.0   \n",
       "4                13-16                     26               13.0   \n",
       "\n",
       "   environment_domain_round  environment_domain_range      avg_pre_covid_use  \\\n",
       "0                        12                      9-12     4 to 6 hrs per day   \n",
       "1                        20                     17-20  8 or more hrs per day   \n",
       "2                        11                      9-12     6 to 8 hrs per day   \n",
       "3                        14                     13-16     2 to 4 hrs per day   \n",
       "4                        13                     13-16     4 to 6 hrs per day   \n",
       "\n",
       "      avg_post_covid_use  change_in_usage  \n",
       "0     6 to 8 hrs per day        INCREASED  \n",
       "1  8 or more hrs per day        NO CHANGE  \n",
       "2     4 to 6 hrs per day        DECREASED  \n",
       "3  8 or more hrs per day        INCREASED  \n",
       "4     6 to 8 hrs per day        INCREASED  \n",
       "\n",
       "[5 rows x 95 columns]"
      ]
     },
     "execution_count": 38,
     "metadata": {},
     "output_type": "execute_result"
    }
   ],
   "source": [
    "df.head()"
   ]
  },
  {
   "cell_type": "markdown",
   "metadata": {},
   "source": [
    "Note that i collected this data and was very careful with spellings and punctuation of entries from the collection stage itself. so we don't need to clean entry errors. but values are a lot more verbose than we need for analysis, as were the column names and ids that we cleaned in the process script. so lets simplify them."
   ]
  },
  {
   "cell_type": "code",
   "execution_count": 39,
   "metadata": {},
   "outputs": [
    {
     "data": {
      "text/plain": [
       "gender\n",
       "Male      117\n",
       "Female     77\n",
       "Name: count, dtype: int64"
      ]
     },
     "execution_count": 39,
     "metadata": {},
     "output_type": "execute_result"
    }
   ],
   "source": [
    "df['gender'].value_counts()"
   ]
  },
  {
   "cell_type": "code",
   "execution_count": 40,
   "metadata": {},
   "outputs": [],
   "source": [
    "gender_dict = {'Female': 'F', 'Male': 'M'}\n",
    "df['gender'] = df['gender'].apply(lambda x: gender_dict[x])"
   ]
  },
  {
   "cell_type": "code",
   "execution_count": 41,
   "metadata": {},
   "outputs": [
    {
     "data": {
      "text/plain": [
       "0    F\n",
       "1    F\n",
       "2    F\n",
       "3    F\n",
       "4    F\n",
       "Name: gender, dtype: object"
      ]
     },
     "execution_count": 41,
     "metadata": {},
     "output_type": "execute_result"
    }
   ],
   "source": [
    "df['gender'].head()"
   ]
  },
  {
   "cell_type": "code",
   "execution_count": 42,
   "metadata": {},
   "outputs": [
    {
     "data": {
      "text/plain": [
       "batch\n",
       "First yr    139\n",
       "Final yr     55\n",
       "Name: count, dtype: int64"
      ]
     },
     "execution_count": 42,
     "metadata": {},
     "output_type": "execute_result"
    }
   ],
   "source": [
    "df['batch'].value_counts()"
   ]
  },
  {
   "cell_type": "code",
   "execution_count": 43,
   "metadata": {},
   "outputs": [],
   "source": [
    "batch_dict = {'First yr': 'junior',\n",
    "              'Final yr': 'senior'}\n",
    "df['batch'] = df['batch'].apply(lambda x: batch_dict[x])"
   ]
  },
  {
   "cell_type": "code",
   "execution_count": 44,
   "metadata": {},
   "outputs": [
    {
     "data": {
      "text/plain": [
       "0    senior\n",
       "1    senior\n",
       "2    senior\n",
       "3    senior\n",
       "4    senior\n",
       "Name: batch, dtype: object"
      ]
     },
     "execution_count": 44,
     "metadata": {},
     "output_type": "execute_result"
    }
   ],
   "source": [
    "df['batch'].head()"
   ]
  },
  {
   "cell_type": "code",
   "execution_count": 45,
   "metadata": {},
   "outputs": [
    {
     "data": {
      "text/plain": [
       "avg_internet_usage\n",
       "4 to 6 hours per day         61\n",
       "2 to 4 hours per day         58\n",
       "6 to 8 hours per day         30\n",
       "0 to 2 hours per day         28\n",
       "more than 8 hours per day    17\n",
       "Name: count, dtype: int64"
      ]
     },
     "execution_count": 45,
     "metadata": {},
     "output_type": "execute_result"
    }
   ],
   "source": [
    "df['avg_internet_usage'].value_counts()"
   ]
  },
  {
   "cell_type": "markdown",
   "metadata": {},
   "source": [
    "Pretty clean and good. no need to do anything with these."
   ]
  },
  {
   "cell_type": "code",
   "execution_count": 46,
   "metadata": {},
   "outputs": [
    {
     "data": {
      "text/plain": [
       "usage_type\n",
       "Social media                                        86\n",
       "Online learning                                     38\n",
       "Streaming services/ Entertainment                   20\n",
       "Information gathering for academic purposes         17\n",
       "Browsing                                            11\n",
       "Communication                                        8\n",
       "Online Gaming                                        7\n",
       "Online lecture Marrow                                1\n",
       "Dhruv rathi videos                                   1\n",
       "Marrow and Netflix                                   1\n",
       "Lecture videos                                       1\n",
       "Study                                                1\n",
       "For academic and social media,  watching series      1\n",
       "Watching videos for study                            1\n",
       "Name: count, dtype: int64"
      ]
     },
     "execution_count": 46,
     "metadata": {},
     "output_type": "execute_result"
    }
   ],
   "source": [
    "df['usage_type'].value_counts()"
   ]
  },
  {
   "cell_type": "markdown",
   "metadata": {},
   "source": [
    "now there is a lot of overlap between categories, primarily because the form that i used, had a text input option if you couldn't find your answer and well, if you let people write, they get creative. so let's do something about this. i'll only change the entries that already overlap with the responses i gave in the form as options."
   ]
  },
  {
   "cell_type": "code",
   "execution_count": 47,
   "metadata": {},
   "outputs": [],
   "source": [
    "usage_type_dict = {\"Online lecture Marrow\": \"Online learning\",\n",
    "                   \"Dhruv rathi videos\": \"Browsing\",\n",
    "                   \"Lecture videos\": \"Online learning\",\n",
    "                   \"Study\": \"Online learning\",\n",
    "                   \"Watching videos for study\": \"Online learning\",\n",
    "                   \"Marrow and Netflix\": \"More than 1 of the above\",\n",
    "                   \"For academic and social media,  watching series \": \"More than 1 of the above\"}\n",
    "\n",
    "df['usage_type'] = df['usage_type'].apply(lambda x: usage_type_dict[x] if x in usage_type_dict.keys() else x)"
   ]
  },
  {
   "cell_type": "code",
   "execution_count": 48,
   "metadata": {},
   "outputs": [
    {
     "data": {
      "text/plain": [
       "usage_type\n",
       "Social media                                   86\n",
       "Online learning                                42\n",
       "Streaming services/ Entertainment              20\n",
       "Information gathering for academic purposes    17\n",
       "Browsing                                       12\n",
       "Communication                                   8\n",
       "Online Gaming                                   7\n",
       "More than 1 of the above                        2\n",
       "Name: count, dtype: int64"
      ]
     },
     "execution_count": 48,
     "metadata": {},
     "output_type": "execute_result"
    }
   ],
   "source": [
    "df['usage_type'].value_counts()"
   ]
  },
  {
   "cell_type": "markdown",
   "metadata": {},
   "source": [
    "okay thats better!"
   ]
  },
  {
   "cell_type": "markdown",
   "metadata": {},
   "source": [
    "Now the Original questionaire had three types of questions. Questions from the IAT questionaaire, questions from the WHO-QOL questionaiire (i'll explain these as we work with them.) and questions about basic internet usage and demographic information.So we will separate the dataframe into three dataframes since these three domains can be analysed separately."
   ]
  },
  {
   "cell_type": "code",
   "execution_count": 49,
   "metadata": {},
   "outputs": [
    {
     "data": {
      "text/html": [
       "<div>\n",
       "<style scoped>\n",
       "    .dataframe tbody tr th:only-of-type {\n",
       "        vertical-align: middle;\n",
       "    }\n",
       "\n",
       "    .dataframe tbody tr th {\n",
       "        vertical-align: top;\n",
       "    }\n",
       "\n",
       "    .dataframe thead th {\n",
       "        text-align: right;\n",
       "    }\n",
       "</style>\n",
       "<table border=\"1\" class=\"dataframe\">\n",
       "  <thead>\n",
       "    <tr style=\"text-align: right;\">\n",
       "      <th></th>\n",
       "      <th>id</th>\n",
       "      <th>gender</th>\n",
       "      <th>batch</th>\n",
       "      <th>avg_internet_usage</th>\n",
       "      <th>usage_type</th>\n",
       "      <th>avg_pre_covid_use</th>\n",
       "      <th>avg_post_covid_use</th>\n",
       "      <th>change_in_usage</th>\n",
       "    </tr>\n",
       "  </thead>\n",
       "  <tbody>\n",
       "    <tr>\n",
       "      <th>0</th>\n",
       "      <td>17/20</td>\n",
       "      <td>F</td>\n",
       "      <td>senior</td>\n",
       "      <td>6 to 8 hours per day</td>\n",
       "      <td>Online learning</td>\n",
       "      <td>4 to 6 hrs per day</td>\n",
       "      <td>6 to 8 hrs per day</td>\n",
       "      <td>INCREASED</td>\n",
       "    </tr>\n",
       "    <tr>\n",
       "      <th>1</th>\n",
       "      <td>17/1</td>\n",
       "      <td>F</td>\n",
       "      <td>senior</td>\n",
       "      <td>4 to 6 hours per day</td>\n",
       "      <td>Online learning</td>\n",
       "      <td>8 or more hrs per day</td>\n",
       "      <td>8 or more hrs per day</td>\n",
       "      <td>NO CHANGE</td>\n",
       "    </tr>\n",
       "    <tr>\n",
       "      <th>2</th>\n",
       "      <td>17/10</td>\n",
       "      <td>F</td>\n",
       "      <td>senior</td>\n",
       "      <td>more than 8 hours per day</td>\n",
       "      <td>Online learning</td>\n",
       "      <td>6 to 8 hrs per day</td>\n",
       "      <td>4 to 6 hrs per day</td>\n",
       "      <td>DECREASED</td>\n",
       "    </tr>\n",
       "    <tr>\n",
       "      <th>3</th>\n",
       "      <td>17/11</td>\n",
       "      <td>F</td>\n",
       "      <td>senior</td>\n",
       "      <td>6 to 8 hours per day</td>\n",
       "      <td>Online learning</td>\n",
       "      <td>2 to 4 hrs per day</td>\n",
       "      <td>8 or more hrs per day</td>\n",
       "      <td>INCREASED</td>\n",
       "    </tr>\n",
       "    <tr>\n",
       "      <th>4</th>\n",
       "      <td>17/12</td>\n",
       "      <td>F</td>\n",
       "      <td>senior</td>\n",
       "      <td>6 to 8 hours per day</td>\n",
       "      <td>Online learning</td>\n",
       "      <td>4 to 6 hrs per day</td>\n",
       "      <td>6 to 8 hrs per day</td>\n",
       "      <td>INCREASED</td>\n",
       "    </tr>\n",
       "  </tbody>\n",
       "</table>\n",
       "</div>"
      ],
      "text/plain": [
       "      id gender   batch         avg_internet_usage       usage_type  \\\n",
       "0  17/20      F  senior       6 to 8 hours per day  Online learning   \n",
       "1   17/1      F  senior       4 to 6 hours per day  Online learning   \n",
       "2  17/10      F  senior  more than 8 hours per day  Online learning   \n",
       "3  17/11      F  senior       6 to 8 hours per day  Online learning   \n",
       "4  17/12      F  senior       6 to 8 hours per day  Online learning   \n",
       "\n",
       "       avg_pre_covid_use     avg_post_covid_use change_in_usage  \n",
       "0     4 to 6 hrs per day     6 to 8 hrs per day       INCREASED  \n",
       "1  8 or more hrs per day  8 or more hrs per day       NO CHANGE  \n",
       "2     6 to 8 hrs per day     4 to 6 hrs per day       DECREASED  \n",
       "3     2 to 4 hrs per day  8 or more hrs per day       INCREASED  \n",
       "4     4 to 6 hrs per day     6 to 8 hrs per day       INCREASED  "
      ]
     },
     "execution_count": 49,
     "metadata": {},
     "output_type": "execute_result"
    }
   ],
   "source": [
    "basics_df = df[['id','gender', 'batch', 'avg_internet_usage', 'usage_type', 'avg_pre_covid_use',\n",
    "               'avg_post_covid_use', 'change_in_usage']]\n",
    "basics_df.head()"
   ]
  },
  {
   "cell_type": "code",
   "execution_count": 50,
   "metadata": {},
   "outputs": [
    {
     "data": {
      "text/plain": [
       "id                    0\n",
       "gender                0\n",
       "batch                 0\n",
       "avg_internet_usage    0\n",
       "usage_type            0\n",
       "avg_pre_covid_use     0\n",
       "avg_post_covid_use    0\n",
       "change_in_usage       0\n",
       "dtype: int64"
      ]
     },
     "execution_count": 50,
     "metadata": {},
     "output_type": "execute_result"
    }
   ],
   "source": [
    "basics_df.isna().sum()"
   ]
  },
  {
   "cell_type": "markdown",
   "metadata": {},
   "source": [
    "you might have noticed that i didn't do the null value check on the original df. thats because there are 7 columns with null values but they are part of the analysis, and we will get to them later.\n",
    "\n",
    "there are no null values in the collected data because the participitants who consented for the study had a form where all questions were mandatory.\n",
    "\n",
    "that is also the reason we only have full data for 194 out of 350 possible participants. either the participants didn't fill the form at all or they filled it completely because incomplete forms wouldn't be submitted. this was a design choice."
   ]
  },
  {
   "cell_type": "markdown",
   "metadata": {},
   "source": [
    "iat dataframe with only the responses."
   ]
  },
  {
   "cell_type": "code",
   "execution_count": 52,
   "metadata": {},
   "outputs": [
    {
     "data": {
      "text/plain": [
       "21"
      ]
     },
     "execution_count": 52,
     "metadata": {},
     "output_type": "execute_result"
    }
   ],
   "source": [
    "# these are the raw responses i had\n",
    "iat_columns =['id']\n",
    "for column in df.columns:\n",
    "    if 'iat' in column:\n",
    "        iat_columns.append(column)\n",
    "\n",
    "iat_columns = iat_columns[:-2]\n",
    "len(iat_columns)"
   ]
  },
  {
   "cell_type": "code",
   "execution_count": 53,
   "metadata": {},
   "outputs": [
    {
     "data": {
      "text/plain": [
       "(194, 21)"
      ]
     },
     "execution_count": 53,
     "metadata": {},
     "output_type": "execute_result"
    }
   ],
   "source": [
    "iat_df = df[iat_columns]\n",
    "iat_df.shape"
   ]
  },
  {
   "cell_type": "markdown",
   "metadata": {},
   "source": [
    "qol scores without the subdomain analysis"
   ]
  },
  {
   "cell_type": "code",
   "execution_count": 54,
   "metadata": {},
   "outputs": [
    {
     "data": {
      "text/plain": [
       "30"
      ]
     },
     "execution_count": 54,
     "metadata": {},
     "output_type": "execute_result"
    }
   ],
   "source": [
    "# these are the raw responses i had\n",
    "qol_columns =['id']\n",
    "for column in df.columns:\n",
    "    if 'qol' in column:\n",
    "        qol_columns.append(column)\n",
    "\n",
    "qol_columns = qol_columns[:-2]\n",
    "len(qol_columns)"
   ]
  },
  {
   "cell_type": "markdown",
   "metadata": {},
   "source": [
    "if you look at the list of qol columns, you'll see that 3 questions have 2 columns each. one a response and the other the reversed value. that is a part of analysis too because of the structure of the QOL questionaaire. we will drop them too. (i'll explain the reason for the reversal when we analyse the dataframe.)"
   ]
  },
  {
   "cell_type": "code",
   "execution_count": 55,
   "metadata": {},
   "outputs": [
    {
     "data": {
      "text/plain": [
       "(194, 27)"
      ]
     },
     "execution_count": 55,
     "metadata": {},
     "output_type": "execute_result"
    }
   ],
   "source": [
    "qol_df = df[qol_columns]\n",
    "qol_df = qol_df.drop(columns=['qol_3_rev', 'qol_4_rev', 'qol_26_rev'])\n",
    "qol_df.shape"
   ]
  },
  {
   "cell_type": "markdown",
   "metadata": {},
   "source": [
    "so now we have a basic df, an iat df (20 questions) and a qol df(26 questions). its sufficiently clean, due to care in collection process and now we can get on with the analysis.Let's export these dataframes to csv so we can use them in other notebooks."
   ]
  },
  {
   "cell_type": "markdown",
   "metadata": {},
   "source": [
    "run the following cell only once."
   ]
  },
  {
   "cell_type": "code",
   "execution_count": 56,
   "metadata": {},
   "outputs": [],
   "source": [
    "basics_df.to_csv('basics.csv')\n",
    "iat_df.to_csv('iat_responses.csv')\n",
    "qol_df.to_csv('qol_responses.csv')"
   ]
  },
  {
   "cell_type": "markdown",
   "metadata": {},
   "source": [
    "Now lets get down to analysis. "
   ]
  }
 ],
 "metadata": {
  "kernelspec": {
   "display_name": "venv",
   "language": "python",
   "name": "python3"
  },
  "language_info": {
   "codemirror_mode": {
    "name": "ipython",
    "version": 3
   },
   "file_extension": ".py",
   "mimetype": "text/x-python",
   "name": "python",
   "nbconvert_exporter": "python",
   "pygments_lexer": "ipython3",
   "version": "3.8.10"
  }
 },
 "nbformat": 4,
 "nbformat_minor": 2
}
